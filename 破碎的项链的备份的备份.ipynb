{
 "cells": [
  {
   "cell_type": "code",
   "execution_count": 54,
   "metadata": {},
   "outputs": [],
   "source": [
    "'''with open('beads.txt','r') as fin:\n",
    "    N=int(fin.readline().strip())\n",
    "    s=fin.readline().strip()'''\n",
    "N=29\n",
    "s='wwwbbrwrbrbrrbrbrwrwwrbwrwrrb'\n",
    "def brea(i,a):\n",
    "    return (a[i:]+a[:i])\n",
    "maxium=0\n",
    "def count(color,a):\n",
    "    if a==[]:\n",
    "        return 0\n",
    "    if len(a)==1 and a[0]==color:\n",
    "        return 1\n",
    "    if len(a)==1 and a[0]!=color and a[0]!='w':\n",
    "        return 0\n",
    "    if a[0]!=color and a[0]!='w':\n",
    "        return 0\n",
    "    return 1+count(color,a[1:])\n",
    "def bigger(a):\n",
    "    return max(count('r',s),count('b',s))"
   ]
  },
  {
   "cell_type": "code",
   "execution_count": 65,
   "metadata": {},
   "outputs": [],
   "source": [
    "for i in range(0,N-1):\n",
    "    array=brea(i,s)\n",
    "    t=bigger(array)\n",
    "    if t-1<N:\n",
    "        copy=brea(t,s)\n",
    "        copy=copy[::-1]\n",
    "        final=bigger(copy)+t\n",
    "    else:\n",
    "        final=t\n",
    "    if final>maxium:\n",
    "        maxium=final"
   ]
  },
  {
   "cell_type": "code",
   "execution_count": 66,
   "metadata": {},
   "outputs": [
    {
     "data": {
      "text/plain": [
       "10"
      ]
     },
     "execution_count": 66,
     "metadata": {},
     "output_type": "execute_result"
    }
   ],
   "source": [
    "maxium"
   ]
  },
  {
   "cell_type": "code",
   "execution_count": null,
   "metadata": {
    "collapsed": true
   },
   "outputs": [],
   "source": []
  },
  {
   "cell_type": "code",
   "execution_count": null,
   "metadata": {
    "collapsed": true
   },
   "outputs": [],
   "source": []
  }
 ],
 "metadata": {
  "kernelspec": {
   "display_name": "Python 3",
   "language": "python",
   "name": "python3"
  },
  "language_info": {
   "codemirror_mode": {
    "name": "ipython",
    "version": 3
   },
   "file_extension": ".py",
   "mimetype": "text/x-python",
   "name": "python",
   "nbconvert_exporter": "python",
   "pygments_lexer": "ipython3",
   "version": "3.6.1"
  }
 },
 "nbformat": 4,
 "nbformat_minor": 2
}
